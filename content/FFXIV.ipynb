{
 "cells": [
  {
   "cell_type": "code",
   "execution_count": 1,
   "id": "6dcbdbf8-d79b-4500-8175-d5296f2e1980",
   "metadata": {},
   "outputs": [],
   "source": [
    "# Library Imports\n",
    "import csv\n",
    "import datetime as dt\n",
    "import json\n",
    "import os\n",
    "import statistics\n",
    "import time\n",
    "# Third-Party Imports\n",
    "import numpy as np\n",
    "import pandas as pd\n",
    "import matplotlib.pyplot as plt\n",
    "import requests\n",
    "from datetime import datetime\n",
    "import random\n",
    "from itertools import chain\n",
    "import asyncio\n",
    "import logging\n",
    "\n",
    "import aiohttp\n",
    "import pyxivapi\n",
    "from pyxivapi.models import Filter, Sort"
   ]
  },
  {
   "cell_type": "code",
   "execution_count": null,
   "id": "51a3d0e5-0d90-41b1-84ba-ae628afab8c8",
   "metadata": {},
   "outputs": [],
   "source": [
    "asynch def fetch_results():\n",
    "    client = pyxivapi.XIVAPIClient()"
   ]
  }
 ],
 "metadata": {
  "kernelspec": {
   "display_name": "Python 3 (ipykernel)",
   "language": "python",
   "name": "python3"
  },
  "language_info": {
   "codemirror_mode": {
    "name": "ipython",
    "version": 3
   },
   "file_extension": ".py",
   "mimetype": "text/x-python",
   "name": "python",
   "nbconvert_exporter": "python",
   "pygments_lexer": "ipython3",
   "version": "3.10.6"
  }
 },
 "nbformat": 4,
 "nbformat_minor": 5
}
