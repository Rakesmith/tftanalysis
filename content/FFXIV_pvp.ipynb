{
 "cells": [
  {
   "cell_type": "code",
   "execution_count": 1,
   "id": "faf7bd5c-cbbd-47ac-b8eb-c848d9c25651",
   "metadata": {},
   "outputs": [],
   "source": [
    "# Library Imports\n",
    "import csv\n",
    "import datetime as dt\n",
    "import json\n",
    "import os\n",
    "import statistics\n",
    "import time\n",
    "import random\n",
    "from itertools import chain\n",
    "\n",
    "# Third-Party Imports\n",
    "import numpy as np\n",
    "import pandas as pd\n",
    "import matplotlib.pyplot as plt\n",
    "import requests\n"
   ]
  },
  {
   "cell_type": "code",
   "execution_count": 2,
   "id": "143961c4-ee04-4b2d-8396-e1e4f7fb164d",
   "metadata": {},
   "outputs": [
    {
     "data": {
      "text/plain": [
       "{'Error': True,\n",
       " 'Subject': 'XIVAPI ERROR',\n",
       " 'Note': 'Get on discord: https://discord.gg/MFFVHWC',\n",
       " 'Message': 'Lodestone returned some error codes (this is not XIVAPI): 403',\n",
       " 'Hash': 'c7ddefd430582a2e34cf747bcda169d742ef901a',\n",
       " 'Ex': 'App\\\\Exception\\\\LodestoneResponseErrorException',\n",
       " 'ExCode': 200,\n",
       " 'Url': '',\n",
       " 'Debug': {'ID': 'GZTiw8zE23120107',\n",
       "  'File': '#146 xivapi.com/src/Controller/LodestoneCharacterController.php',\n",
       "  'Method': 'GET',\n",
       "  'Path': '/character/4606361',\n",
       "  'Action': 'App\\\\Controller\\\\LodestoneCharacterController::index',\n",
       "  'Code': 200,\n",
       "  'Date': '2023-12-01 19:43:03',\n",
       "  'Env': 'prod'}}"
      ]
     },
     "execution_count": 2,
     "metadata": {},
     "output_type": "execute_result"
    }
   ],
   "source": [
    "url = \"https://xivapi.com/character/4606361\"\n",
    "payload = {'columns':'name', 'private_key':'11e2282e863e4c809dc4e332ffafbefb05ee917fc3ba481c8aa232d24688fd84'}\n",
    "Malia = requests.get(url, params=payload).json()\n",
    "Malia "
   ]
  },
  {
   "cell_type": "code",
   "execution_count": null,
   "id": "93623f89-46c0-4ad8-b2e8-9c7809c6bf8c",
   "metadata": {},
   "outputs": [],
   "source": []
  }
 ],
 "metadata": {
  "kernelspec": {
   "display_name": "Python 3 (ipykernel)",
   "language": "python",
   "name": "python3"
  },
  "language_info": {
   "codemirror_mode": {
    "name": "ipython",
    "version": 3
   },
   "file_extension": ".py",
   "mimetype": "text/x-python",
   "name": "python",
   "nbconvert_exporter": "python",
   "pygments_lexer": "ipython3",
   "version": "3.10.6"
  }
 },
 "nbformat": 4,
 "nbformat_minor": 5
}
